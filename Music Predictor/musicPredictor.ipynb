{
 "cells": [
  {
   "cell_type": "code",
   "execution_count": 1,
   "id": "b1ef108e",
   "metadata": {},
   "outputs": [
    {
     "name": "stdout",
     "output_type": "stream",
     "text": [
      "1.0\n"
     ]
    }
   ],
   "source": [
    "import pandas as pd\n",
    "from sklearn.tree import DecisionTreeClassifier\n",
    "from sklearn.model_selection import train_test_split\n",
    "from sklearn.metrics import accuracy_score\n",
    "import joblib\n",
    "from sklearn import tree\n",
    "\n",
    "#Reading the data\n",
    "music_data = pd.read_csv('./dataset/music.csv')\n",
    "\n",
    "# creating input data set\n",
    "X = music_data.drop(columns=['genre'])\n",
    "\n",
    "# creating output data set\n",
    "y = music_data['genre']\n",
    "\n",
    "# spliting data in training and testing\n",
    "X_train, X_test, y_train, y_test = train_test_split(X, y, test_size=0.2) #returns tuple\n",
    "\n",
    "# implementing decision tree\n",
    "model = DecisionTreeClassifier()\n",
    "\n",
    "# Reading input and output dataset to find pattern\n",
    "model.fit(X_train.values, y_train)\n",
    "\n",
    "# visulizing the tree\n",
    "# tree.export_graphviz(model, out_file='music_recommender.dot', feature_names=['age', 'gender'], class_names=sorted(y.unique()), label='all', rounded=True, filled=True)\n",
    "\n",
    "# persisting our model\n",
    "# joblib.dump(model, 'music_recommender.joblib')\n",
    "\n",
    "# loading our model\n",
    "# model = joblib.load('music_recommender.joblib')\n",
    "\n",
    "# making predicitons \n",
    "predictions = model.predict(X_test.values)\n",
    "\n",
    "#testing accuracy\n",
    "score = accuracy_score(y_test, predictions)\n",
    "\n",
    "print(score)"
   ]
  },
  {
   "cell_type": "code",
   "execution_count": null,
   "id": "ea3d8563",
   "metadata": {},
   "outputs": [],
   "source": []
  },
  {
   "cell_type": "code",
   "execution_count": null,
   "id": "5adaaf38",
   "metadata": {},
   "outputs": [],
   "source": []
  }
 ],
 "metadata": {
  "kernelspec": {
   "display_name": "Python 3.8.0 32-bit",
   "language": "python",
   "name": "python3"
  },
  "language_info": {
   "codemirror_mode": {
    "name": "ipython",
    "version": 3
   },
   "file_extension": ".py",
   "mimetype": "text/x-python",
   "name": "python",
   "nbconvert_exporter": "python",
   "pygments_lexer": "ipython3",
   "version": "3.8.0"
  },
  "vscode": {
   "interpreter": {
    "hash": "7047a4f210677aea17e0701f6801d6572cb01dce24191d61950ab1990d47a594"
   }
  }
 },
 "nbformat": 4,
 "nbformat_minor": 5
}
